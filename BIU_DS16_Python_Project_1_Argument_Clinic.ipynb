{
  "nbformat": 4,
  "nbformat_minor": 0,
  "metadata": {
    "colab": {
      "provenance": [],
      "authorship_tag": "ABX9TyPrWmV9TnTqu31aJnn2QgYY",
      "include_colab_link": true
    },
    "kernelspec": {
      "name": "python3",
      "display_name": "Python 3"
    },
    "language_info": {
      "name": "python"
    }
  },
  "cells": [
    {
      "cell_type": "markdown",
      "metadata": {
        "id": "view-in-github",
        "colab_type": "text"
      },
      "source": [
        "<a href=\"https://colab.research.google.com/github/Anna25-boop/test_project/blob/main/BIU_DS16_Python_Project_1_Argument_Clinic.ipynb\" target=\"_parent\"><img src=\"https://colab.research.google.com/assets/colab-badge.svg\" alt=\"Open In Colab\"/></a>"
      ]
    },
    {
      "cell_type": "markdown",
      "source": [
        "# Python Project 1 - Argument Clinic\n",
        "\n",
        "## Submission details:\n",
        "\n",
        "### Full Name: Anna Kravetz\n",
        "\n",
        "### E-mail: kravetzanna1@gmail.com\n",
        "\n",
        "### URL link to the notebook:\n",
        "https://colab.research.google.com/drive/1mBBsdIxly4gDHI5gFgYKDKue9Zyhz08g?authuser=1#scrollTo=E35faNFBMl51"
      ],
      "metadata": {
        "id": "E35faNFBMl51"
      }
    },
    {
      "cell_type": "code",
      "execution_count": 1,
      "metadata": {
        "id": "EGM_t0PcD05N"
      },
      "outputs": [],
      "source": [
        "import re\n",
        "import random\n",
        "import time"
      ]
    },
    {
      "cell_type": "code",
      "source": [
        "# 1: - Please come back to it\n",
        "def checking_negative_words(customer_sentence):\n",
        "    ''' This function checks if we have negative words in the sentence\n",
        "    if so, it will give the appropriate answer for each negative word'''\n",
        "    negative_key_words = [\"no\", \"not\", \"never\"]\n",
        "    negative_answer = str()\n",
        "    for negative_word in negative_key_words:\n",
        "        if negative_word in customer_sentence:\n",
        "            split_customer_sentence = customer_sentence.split()\n",
        "            if negative_word ==  negative_key_words[0]:\n",
        "                indx_of_negative_word = split_customer_sentence.index(negative_key_words[0])\n",
        "                negative_answer = f\"What do you mean where is no {split_customer_sentence[indx_of_negative_word+1]}?\\n\"\n",
        "            elif negative_word ==  negative_key_words[1]:\n",
        "                indx_of_negative_word = split_customer_sentence.index(negative_key_words[1])\n",
        "                negative_answer = f\"What do you mean where is no {split_customer_sentence[indx_of_negative_word+1]}?\\n\"\n",
        "            elif negative_word ==  negative_key_words[2]:\n",
        "                negative_answer = f\"Never say never! In our company we will take care of it.\\n\"\n",
        "    return negative_answer\n"
      ],
      "metadata": {
        "id": "g3YWfc4ycZ1G"
      },
      "execution_count": 2,
      "outputs": []
    },
    {
      "cell_type": "code",
      "source": [
        "# 2:\n",
        "def checking_positive_words(customer_sentence):\n",
        "    ''' This function checks if we have positive words in the sentence\n",
        "    if so, it will give the appropriate answer for each positive word '''\n",
        "    positive_key_words = [\"yes\", \"I agree\"]\n",
        "    positive_answer = str()\n",
        "    for positive_word in positive_key_words:\n",
        "        if positive_word in customer_sentence:\n",
        "            split_customer_sentence = customer_sentence.split()\n",
        "            if positive_word ==  positive_key_words[0]:\n",
        "                indx_of_positive_word = split_customer_sentence.index(positive_key_words[0])\n",
        "                positive_answer = f\"Is it really, or are we just agreeing to disagree?\\n\"\n",
        "            elif positive_word ==  positive_key_words[1]:\n",
        "                indx_of_positive_word = split_customer_sentence.index(positive_key_words[1])\n",
        "                positive_answer = f\"I'm glad we agree on this subject, can I help you in another topic?\\n\"\n",
        "    return positive_answer\n"
      ],
      "metadata": {
        "id": "JfRQ0il5yv_s"
      },
      "execution_count": 3,
      "outputs": []
    },
    {
      "cell_type": "code",
      "source": [
        "# 3:\n",
        "def checking_if_question(customer_sentence):\n",
        "    ''' This function checks if we have question words in the sentence\n",
        "    if so, it will give the appropriate answer for each question word:\n",
        "    question words '''\n",
        "    #                       0       1      2       3       4     5       6        7      8        9      10      11      12\n",
        "    question_key_words = [\"why\", \"how\", \"when\", \"what\", \"who\", \"is\", \"isn't\", \"are\", \"aren't\", \"do\", \"don't\", \"does\", \"doesn't\"]\n",
        "    question_mark = \"?\"\n",
        "    questions_answer = str()\n",
        "    for question_word in question_key_words:\n",
        "        if (question_word in customer_sentence) and (question_mark in customer_sentence):\n",
        "            split_customer_sentence = customer_sentence.split()\n",
        "            if question_word ==  question_key_words[0]:\n",
        "                questions_answer = f\"Because this is fun?\\n\"\n",
        "            elif question_word ==  question_key_words[1]:\n",
        "                questions_answer = f\"How? with a lot of motivation =]\\n\"\n",
        "            elif question_word ==  question_key_words[2]:\n",
        "                questions_answer = f\"Actually? never!\\n\"\n",
        "            elif question_word ==  question_key_words[3]:\n",
        "                questions_answer = f\"Nothing, What are you doing?\\n\"\n",
        "            elif question_word ==  question_key_words[4]:\n",
        "                questions_answer = f\"Is this your buisness?\\n\"\n",
        "            elif question_word == question_key_words[5]:\n",
        "                questions_answer = f\"It isn't?\\n\"\n",
        "            elif question_word == question_key_words[6]:\n",
        "                questions_answer = f\"It is?\\n\"\n",
        "            elif question_word ==  question_key_words[7]:\n",
        "                questions_answer = f\"Aren't you?\\n\"\n",
        "            elif question_word ==  question_key_words[8]:\n",
        "                questions_answer = f\"Are you?\\n\"\n",
        "            elif question_word ==  question_key_words[9]:\n",
        "                questions_answer = f\"Don't you?\\n\"\n",
        "            elif question_word ==  question_key_words[10]:\n",
        "                questions_answer = f\"Do you?\\n\"\n",
        "            elif question_word ==  question_key_words[11]:\n",
        "                indx_of_question_word = split_customer_sentence.index(question_word)\n",
        "                questions_answer = f\"Doesn't {question_word[indx_of_question_word+1]}?\\n\"\n",
        "            elif question_word ==  question_key_words[12]:\n",
        "                indx_of_question_word = split_customer_sentence.index(question_word)\n",
        "                questions_answer = f\"Does {question_word[indx_of_question_word+1]}?\\n\"\n",
        "        elif (question_word in customer_sentence) or (question_mark in customer_sentence):\n",
        "            questions_answer = f\"Are you asking me a question?\"\n",
        "        return questions_answer"
      ],
      "metadata": {
        "id": "imzQr6U1szwJ"
      },
      "execution_count": 4,
      "outputs": []
    },
    {
      "cell_type": "code",
      "source": [
        "# 4:\n",
        "def  repeated_phrases(customer_sentence, customer_sentences):\n",
        "    ''' checks if the customer repeated the same sentence multipule times\n",
        "    if so, the system will give an appropriate answer '''\n",
        "    repeated_phrases_answer = str()\n",
        "    if customer_sentence in customer_sentences:\n",
        "        if customer_sentence  == \"yes, it is\":\n",
        "            repeated_phrases_answer = f\"No, it isn't\\n\"\n",
        "        elif customer_sentence  == \"no, it isn't\":\n",
        "            repeated_phrases_answer = f\"Yes, it is\\n\"\n",
        "        else:\n",
        "            repeated_phrases_answer = f\"Well, are you sure about that?\\n\"\n",
        "    return repeated_phrases_answer"
      ],
      "metadata": {
        "id": "GuA2sY7640ma"
      },
      "execution_count": 5,
      "outputs": []
    },
    {
      "cell_type": "code",
      "source": [
        "# 5:\n",
        "def personal_statements(customer_sentence):\n",
        "    ''' This function checks if we have a personal statment in the sentence\n",
        "    when if so, it will return the right answer\n",
        "    personal statements words'''\n",
        "    personal_word = \"i\"\n",
        "    personal_answer = str()\n",
        "    if personal_word in customer_sentence.split():\n",
        "        split_customer_sentence = customer_sentence.split()\n",
        "        indx_of_personal_word = split_customer_sentence.index(personal_word)\n",
        "        personal_answer = f\"Are you sure about what you {split_customer_sentence[indx_of_personal_word+1]}?\\n\"\n",
        "    return personal_answer"
      ],
      "metadata": {
        "id": "J03kDHzeru3E"
      },
      "execution_count": 11,
      "outputs": []
    },
    {
      "cell_type": "code",
      "source": [
        "# 6:\n",
        "def checking_key_words(customer_sentence):\n",
        "    ''' This function wants to check if where are positive words,\n",
        "    if so, we will get the expected answer from the system '''\n",
        "    # positive words:\n",
        "    key_words = [\"impossible\", \"always\", \"never\"]\n",
        "    key_answer = str()\n",
        "    for key_word in key_words:\n",
        "        if key_word in customer_sentence:\n",
        "            split_customer_sentence = customer_sentence.split()\n",
        "            indx_of_positive_word = split_customer_sentence.index(key_word)\n",
        "            key_answer = f\"{split_customer_sentence[indx_of_positive_word]}? Isn't life full of exceptions?\\n\"\n",
        "    return key_answer"
      ],
      "metadata": {
        "id": "zPNVIlAi0wXR"
      },
      "execution_count": 7,
      "outputs": []
    },
    {
      "cell_type": "code",
      "source": [
        "# 7:\n",
        "def check_len_sentence(customer_sentence):\n",
        "    ''' This function wants to check if the sentence is long enough, if not the system\n",
        "    will warn you and will ask you to put another sentence '''\n",
        "    split_customer_sentence = customer_sentence.split()\n",
        "    warning = str()\n",
        "    min_sentence_len = 2\n",
        "    max_sentence_len = 10\n",
        "    while (len(split_customer_sentence)<min_sentence_len) or (len(split_customer_sentence)>max_sentence_len):\n",
        "         warning = f\"Your sentence is too short, please try again!\"\n",
        "         break\n",
        "    return warning"
      ],
      "metadata": {
        "id": "47BCFsEIc8om"
      },
      "execution_count": 8,
      "outputs": []
    },
    {
      "cell_type": "code",
      "source": [
        "# 8:\n",
        "def check_numerical_characters(customer_sentence):\n",
        "    ''' This function wants to check if the sentence have numbers in\n",
        "    it, when the function will return a warning that you can't use\n",
        "    numbers in the sentence '''\n",
        "    warning = str()\n",
        "    while (re.search(\"[a-z][0-9][a-z]\", customer_sentence)) or (re.search(\"[a-z][0-9]\", customer_sentence)) or (re.search(\"[0-9][a-z]\", customer_sentence)):\n",
        "        warning = f\"Your words in the sentence has numeric values, please try again!\"\n",
        "        break\n",
        "    return warning\n"
      ],
      "metadata": {
        "id": "GYZshS8Bt4Z1"
      },
      "execution_count": 9,
      "outputs": []
    },
    {
      "cell_type": "code",
      "source": [
        "# Here the customer enters his sentence into the system\n",
        "def main():\n",
        "    '''This function includes all the other functions for for checking all\n",
        "    the arguments and questions and give the right answers.'''\n",
        "    initial_code_time = time.time()\n",
        "    customer_sentences = []\n",
        "    customer_sentence = []\n",
        "    while customer_sentence!=\"goodbye\":\n",
        "        customer_sentence = input(\"Please enter your argument: \")\n",
        "        print(check_numerical_characters(customer_sentence))\n",
        "        print(check_len_sentence(customer_sentence))\n",
        "        customer_sentence_lower_characters = customer_sentence.lower()\n",
        "        print(checking_negative_words(customer_sentence))\n",
        "        print(checking_positive_words(customer_sentence))\n",
        "        print(checking_if_question(customer_sentence))\n",
        "        print(repeated_phrases(customer_sentence, customer_sentences))\n",
        "        print(personal_statements(customer_sentence))\n",
        "        print(checking_key_words(customer_sentence))\n",
        "        customer_sentences.append(customer_sentence)\n",
        "\n",
        "    else:\n",
        "        customer_sentences.remove(customer_sentence)\n",
        "        message = f\"You exited the system\"\n",
        "    # get the current time in seconds since the epoch\n",
        "    ending_code_time = time.time()\n",
        "    elapsed_code_time = ending_code_time - initial_code_time\n",
        "\n",
        "    print('Execution time:', elapsed_code_time, 'seconds')\n",
        "\n",
        "main()"
      ],
      "metadata": {
        "colab": {
          "base_uri": "https://localhost:8080/"
        },
        "id": "oro5mt8s-KV6",
        "outputId": "613005e2-d809-4b18-8bd7-ce6ce9e752fd"
      },
      "execution_count": 12,
      "outputs": [
        {
          "output_type": "stream",
          "name": "stdout",
          "text": [
            "Please enter your argument: Did you ate today?\n",
            "\n",
            "\n",
            "\n",
            "\n",
            "Are you asking me a question?\n",
            "\n",
            "\n",
            "\n",
            "Please enter your argument: Did you ate today?\n",
            "\n",
            "\n",
            "\n",
            "\n",
            "Are you asking me a question?\n",
            "Well, are you sure about that?\n",
            "\n",
            "\n",
            "\n",
            "Please enter your argument: goodbye\n",
            "\n",
            "Your sentence is too short, please try again!\n",
            "\n",
            "\n",
            "\n",
            "\n",
            "\n",
            "\n",
            "Execution time: 27.763272762298584 seconds\n"
          ]
        }
      ]
    },
    {
      "cell_type": "code",
      "source": [],
      "metadata": {
        "id": "zTHlPXJ85jFD"
      },
      "execution_count": null,
      "outputs": []
    }
  ]
}